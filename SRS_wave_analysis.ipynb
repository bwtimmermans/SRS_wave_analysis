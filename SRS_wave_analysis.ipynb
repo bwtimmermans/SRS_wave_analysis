{
 "cells": [
  {
   "cell_type": "markdown",
   "metadata": {},
   "source": [
    "# An analysis of IMOS SRS ocean wave height satellite observation dataset."
   ]
  },
  {
   "cell_type": "markdown",
   "metadata": {},
   "source": [
    "## References\n",
    "<a href=https://www.researchgate.net/publication/330546310>Ribal and Young (2019)</a> describe the production of the data base.\n",
    "Production is obtained from here: <a href=http://thredds.aodn.org.au/thredds/catalog/IMOS/SRS/Surface-Waves/Wave-Wind-Altimetry-DM00/catalog.html>http://thredds.aodn.org.au/thredds/catalog/IMOS/SRS/Surface-Waves/Wave-Wind-Altimetry-DM00/catalog.html</a>\n",
    "\n",
    "<a href=https://agupubs.onlinelibrary.wiley.com/doi/full/10.1002/2016GL071681>Timmermans et al. (2017)</a> describe the characteristics of simulated wave climate at different resolution, and provide some comparisons of simulated wind and wave height data with observations.\n"
   ]
  },
  {
   "cell_type": "markdown",
   "metadata": {},
   "source": [
    "## Data summary\n",
    "Observations of $H_s$ are provided for each mission, and binned into $1 x 1^\\circ$ grid cells. All measurements along the track that intersects the grid cell are included, typically up to about 12 measurements. This includes observations from both KU- and C-band where available.\n",
    "\n",
    "<img src=\"./figures/ribal_missions.png\">\n",
    "Figure 2 from Ribal and Young (2019) shows the temporal coincidence of missions."
   ]
  },
  {
   "cell_type": "markdown",
   "metadata": {},
   "source": [
    "## Characteristics of the wave climate\n",
    "Simulations of ocean waves from a simulated atmosphere at $\\sim$25 km global resolution\n",
    "<a href=https://www.youtube.com/watch?v&#61;k9NqhLqKhWQ> can be seen here</a>. Region-by-region, and season-by-season circulation patterns can be seen that govern ocean wave conditions. For example, waves in the northern Pacific and northern Atlantic tend to be driven by large scale circulation blowing from the west. In contrast the tropics are affected seasonally by tropical cyclones that may be much more geospatially compact."
   ]
  },
  {
   "cell_type": "markdown",
   "metadata": {},
   "source": [
    "# Exploratory analysis of satellite data\n",
    "## Comparison with buoy observations\n",
    "A fairly crude comparison of the sampled distribution of $H_s$ can be made through a Q-Q plot of all the (KU-band) satellite observations, and buoy observations. In the figure below, observations from four missions that coincide with the life time of the buoy are compared. Note that buoy 46066 covers the period 2000-2018, so JASON-1 (2002-2013) coincides most completely.\n",
    "\n",
    "<img src=\"./analysis/figures/46066_5678_annual.png\">\n",
    "\n",
    "In the figure above, Q50 (the median, ~2.5m) is marked by the dashed red lines. Although small in absolute terms (~10 cm) statistically significant discrepancies can be seen."
   ]
  },
  {
   "cell_type": "code",
   "execution_count": null,
   "metadata": {},
   "outputs": [],
   "source": []
  }
 ],
 "metadata": {
  "kernelspec": {
   "display_name": "Python 3",
   "language": "python",
   "name": "python3"
  },
  "language_info": {
   "codemirror_mode": {
    "name": "ipython",
    "version": 3
   },
   "file_extension": ".py",
   "mimetype": "text/x-python",
   "name": "python",
   "nbconvert_exporter": "python",
   "pygments_lexer": "ipython3",
   "version": "3.7.2"
  }
 },
 "nbformat": 4,
 "nbformat_minor": 2
}
